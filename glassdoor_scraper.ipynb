{
 "cells": [
  {
   "cell_type": "markdown",
   "metadata": {},
   "source": [
    "## Glassdoor Job Scraper\n"
   ]
  },
  {
   "cell_type": "code",
   "execution_count": 18,
   "metadata": {},
   "outputs": [],
   "source": [
    "from selenium.common.exceptions import NoSuchElementException\n",
    "from selenium import webdriver\n",
    "from selenium.webdriver.common.by import By\n",
    "from webdriver_manager.chrome import ChromeDriverManager  \n",
    "import time\n",
    "import csv\n",
    "import pandas as pd"
   ]
  },
  {
   "cell_type": "code",
   "execution_count": 19,
   "metadata": {},
   "outputs": [],
   "source": [
    "# The webdriver initialization\n",
    "driver = webdriver.Chrome(ChromeDriverManager().install())\n",
    "driver.set_window_size(1120, 1000)\n",
    "url = \"https://www.glassdoor.com/Job/germany-data-scientist-jobs-SRCH_IL.0,7_IN96_KO8,22.htm\"\n",
    "driver.get(url)"
   ]
  },
  {
   "cell_type": "code",
   "execution_count": 20,
   "metadata": {},
   "outputs": [],
   "source": [
    "def close_popup_window():\n",
    "    # Close popup glassdoor window\n",
    "    try:\n",
    "        driver.find_element(By.XPATH,'.//div[@class=\"d-flex flex-column pl-sm css-3g3psg css-1of6cnp e1rrn5ka4\"]').click()\n",
    "        driver.find_element(By.XPATH, './/span[@alt=\"Close\"]').click()\n",
    "    except NoSuchElementException:\n",
    "        pass   "
   ]
  },
  {
   "cell_type": "code",
   "execution_count": 21,
   "metadata": {},
   "outputs": [],
   "source": [
    "def scrape_job_card(job_card):\n",
    "    # Extract from single card job related data\n",
    "    try:\n",
    "        company_name = driver.find_element(By.XPATH,'.//div[@data-test=\"employerName\"]').text\n",
    "    except NoSuchElementException:\n",
    "        company_name = \"NI\"\n",
    "    try:\n",
    "        position = driver.find_element(By.XPATH,'.//div[@data-test=\"jobTitle\"]').text\n",
    "    except NoSuchElementException:\n",
    "        position = \"NI\"       \n",
    "    try:\n",
    "        location = driver.find_element(By.XPATH, './/div[@data-test=\"location\"]').text\n",
    "    except NoSuchElementException:\n",
    "        location = \"NI\"\n",
    "    try:\n",
    "        salary = job_card.find_element(By.XPATH,'.//span[@data-test=\"detailSalary\"]').text\n",
    "    except NoSuchElementException:\n",
    "        salary = \"NI\"    \n",
    "    try:\n",
    "        rating = driver.find_element(By.XPATH, './/span[@data-test=\"detailRating\"]').text\n",
    "    except NoSuchElementException:\n",
    "        rating = \"NI\"\n",
    "    try:\n",
    "        description = driver.find_element(By.XPATH, './/div[@class=\"jobDescriptionContent desc\"]').text\n",
    "    except NoSuchElementException:\n",
    "        description = \"NI\"\n",
    "    try:\n",
    "        company_overview = driver.find_element(By.XPATH, './/div[@class=\"d-flex flex-wrap\"]').text\n",
    "    except NoSuchElementException:\n",
    "        company_overview = \"NI\"\n",
    "    try:\n",
    "        ratings_overview = driver.find_element(By.XPATH, './/ul[@class=\"css-38kpu8 erz4gkm0\"]').text\n",
    "    except NoSuchElementException:\n",
    "        ratings_overview = \"NI\"\n",
    "    try:\n",
    "        pros_and_cons = driver.find_element(By.XPATH, './/div[@class=\"css-1xgpjcn e1vn3ovn5\"]').text\n",
    "    except NoSuchElementException:\n",
    "        pros_and_cons = \"NI\"\n",
    "\n",
    "    return position, company_name, location, rating, salary, description, company_overview, ratings_overview, pros_and_cons"
   ]
  },
  {
   "cell_type": "code",
   "execution_count": 22,
   "metadata": {},
   "outputs": [],
   "source": [
    "def save_data_to_csv_file(records):\n",
    "    # Save scraped data to csv file\n",
    "    with open('jobs_info.csv', 'w', newline='', encoding='utf-8') as f:\n",
    "        writer = csv.writer(f)\n",
    "        writer.writerow(['position', 'company_name', 'location', 'rating', 'salary', 'description', 'company_overview', 'ratings_overview', 'pros_and_cons'])\n",
    "        writer.writerows(records)"
   ]
  },
  {
   "cell_type": "code",
   "execution_count": 23,
   "metadata": {},
   "outputs": [],
   "source": [
    "def glassdoor_scraper(num_job_cards, waiting_time):\n",
    "    close_popup_window()\n",
    "    jobs = []\n",
    "    while len(jobs) < num_job_cards:\n",
    "        job_cards_list = driver.find_elements(By.XPATH,'.//div[@class=\"d-flex flex-column pl-sm css-3g3psg css-1of6cnp e1rrn5ka4\"]')\n",
    "        # Going through each job-card\n",
    "        for i in range(len(job_cards_list)):\n",
    "            print(\"Progress: {}\".format(\"\" + str(len(jobs)) + \"/\" + str(num_job_cards)))\n",
    "            if len(jobs) >= num_job_cards:\n",
    "                break\n",
    "            job_cards_list[i].click()\n",
    "            time.sleep(waiting_time)\n",
    "            jobs.append(scrape_job_card(job_cards_list[i]))\n",
    "            if i == (len(job_cards_list)-1):\n",
    "                # Clicking on the \"next page\" button\n",
    "                driver.find_element(By.XPATH, './/span[@alt=\"next-icon\"]').click()\n",
    "                time.sleep(waiting_time)\n",
    "    save_data_to_csv_file(jobs)"
   ]
  },
  {
   "cell_type": "code",
   "execution_count": 24,
   "metadata": {},
   "outputs": [
    {
     "name": "stdout",
     "output_type": "stream",
     "text": [
      "Progress: 0/5\n",
      "Progress: 1/5\n",
      "Progress: 2/5\n",
      "Progress: 3/5\n",
      "Progress: 4/5\n",
      "Progress: 5/5\n"
     ]
    }
   ],
   "source": [
    "# Run a search function (it will open a new chrome window and start the scraping) \n",
    "glassdoor_scraper(num_job_cards=5, waiting_time=3)"
   ]
  },
  {
   "cell_type": "code",
   "execution_count": 25,
   "metadata": {},
   "outputs": [
    {
     "name": "stdout",
     "output_type": "stream",
     "text": [
      "                                            position  \\\n",
      "0                      Senior Data Scientist (m/f/d)   \n",
      "1                                Data Scientist (gn)   \n",
      "2                             Data Scientist (m/w/d)   \n",
      "3                      Senior Data Scientist (m/w/d)   \n",
      "4  IT System Engineer / Data Scientist (m/f/d) Ja...   \n",
      "\n",
      "                              company_name  location rating salary  \\\n",
      "0                      Hoffmann Group\\n3.6    Munich    3.6     NI   \n",
      "1                       LichtBlick SE\\n3.7   Hamburg    3.7     NI   \n",
      "2  Endress+Hauser Conducta GmbH+Co.KG\\n4.1  Waldheim    4.1     NI   \n",
      "3                               EMPIT GmbH    Berlin     NI     NI   \n",
      "4                      Hapag Lloyd AG\\n3.9   Hamburg    3.9     NI   \n",
      "\n",
      "                                         description  \\\n",
      "0  More than 4,000 highly motivated employees in ...   \n",
      "1  LichtBlick sucht dich! Ab sofort und in Vollze...   \n",
      "2  Aufgabe + Herausforderungen\\nFestlegung von Da...   \n",
      "3  Über uns:\\nAls EMPIT Familie tragen wir dazu b...   \n",
      "4  The IT Operations & Network team makes sure th...   \n",
      "\n",
      "                                    company_overview  \\\n",
      "0  Size\\n1001 to 5000 Employees\\nFounded\\n1919\\nT...   \n",
      "1  Size\\n201 to 500 Employees\\nFounded\\n1998\\nTyp...   \n",
      "2  Size\\n10000+ Employees\\nFounded\\n1953\\nType\\nC...   \n",
      "3  Size\\nUnknown\\nType\\nCompany - Private\\nRevenu...   \n",
      "4  Size\\n5001 to 10000 Employees\\nType\\nCompany -...   \n",
      "\n",
      "                                    ratings_overview  \\\n",
      "0  Career Opportunities\\n★★★★★\\n3.2\\nComp & Benef...   \n",
      "1  Career Opportunities\\n★★★★★\\n3.5\\nComp & Benef...   \n",
      "2  Career Opportunities\\n★★★★★\\n3.6\\nComp & Benef...   \n",
      "3                                                 NI   \n",
      "4  Career Opportunities\\n★★★★★\\n3.5\\nComp & Benef...   \n",
      "\n",
      "                                       pros_and_cons  \n",
      "0  Pros\\n\"colleagues is good but 95% are retrench...  \n",
      "1  Pros\\n\"flexible Arbeitszeiten\" (in 2 reviews)\\...  \n",
      "2  Pros\\n\"Flexible Arbeitszeit ohne Kernzeit\" (in...  \n",
      "3                                                 NI  \n",
      "4  Pros\\n\"good atmosphere while working in office...  \n"
     ]
    }
   ],
   "source": [
    "# Open csv file with the results and displays the first five rows of the results \n",
    "df = pd.read_csv(\"./jobs_info.csv\")\n",
    "\n",
    "print(df.head())"
   ]
  },
  {
   "cell_type": "code",
   "execution_count": null,
   "metadata": {},
   "outputs": [],
   "source": []
  }
 ],
 "metadata": {
  "kernelspec": {
   "display_name": "Python 3",
   "language": "python",
   "name": "python3"
  },
  "language_info": {
   "codemirror_mode": {
    "name": "ipython",
    "version": 3
   },
   "file_extension": ".py",
   "mimetype": "text/x-python",
   "name": "python",
   "nbconvert_exporter": "python",
   "pygments_lexer": "ipython3",
   "version": "3.7.6"
  }
 },
 "nbformat": 4,
 "nbformat_minor": 4
}
